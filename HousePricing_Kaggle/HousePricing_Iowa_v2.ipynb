{
 "cells": [
  {
   "cell_type": "code",
   "execution_count": 1,
   "metadata": {},
   "outputs": [],
   "source": [
    "import pandas as pd\n",
    "import sklearn\n",
    "\n",
    "# Show all columns when displaying .head() or .describe()\n",
    "pd.set_option('max_columns', None)"
   ]
  },
  {
   "cell_type": "code",
   "execution_count": 2,
   "metadata": {
    "scrolled": true
   },
   "outputs": [],
   "source": [
    "# Split features and labels into X and y Data Frames\n",
    "X = pd.read_csv(\"Kaggle_HousePrice_TrainingData.csv\")\n",
    "X_test = pd.read_csv(\"Kaggle_HousePrice_TestData.csv\")\n",
    "\n",
    "# Drop rows with missing SalesPrice AKA House price data, since they tell us nothing\n",
    "X.dropna(axis = 0, subset = ['SalePrice'], inplace = True)\n",
    "y = pd.DataFrame(X.SalePrice)\n",
    "X.drop(['SalePrice'], axis = 1, inplace = True)"
   ]
  },
  {
   "cell_type": "code",
   "execution_count": 3,
   "metadata": {
    "scrolled": false
   },
   "outputs": [],
   "source": [
    "# Find missing values in Data Set\n",
    "for columns in X:\n",
    "    missing_vals = X[columns].isnull().sum()\n",
    "    \n",
    "    # If less than 70% of the data is available, drop that feature since imputating that feature column would likely\n",
    "    # lead to very inaccurate results.\n",
    "    if (missing_vals > 440):\n",
    "        X.drop(columns, axis = 1, inplace = True)\n",
    "        X_test.drop(columns, axis = 1, inplace = True)\n",
    "\n",
    "# Find the columns with numerical data and the columns with categorical data\n",
    "numerical = X.select_dtypes (exclude = 'object').columns.tolist()\n",
    "\n",
    "# Find the categorical columns with a cardinality of less than 10, so One Hot Encoding doesn't result in\n",
    "# too many extra values.\n",
    "categorical = [col for col in X.columns if X[col].dtype == 'object' and X[col].nunique() < 10]\n",
    "\n",
    "X = X [categorical + numerical]\n",
    "X_test = X_test [categorical + numerical]"
   ]
  },
  {
   "cell_type": "markdown",
   "metadata": {},
   "source": [
    "Initial Missing Columns/Data and how many missing values there are in that column include the following: \n",
    "\n",
    "['LotFrontage 259', 'Alley 1369', 'MasVnrType 8', 'MasVnrArea 8', 'BsmtQual 37', 'BsmtCond 37', 'BsmtExposure 38', 'BsmtFinType1 37', 'BsmtFinType2 38', 'Electrical 1', 'FireplaceQu 690', 'GarageType 81', 'GarageYrBlt 81', 'GarageFinish 81', 'GarageQual 81', 'GarageCond 81', 'PoolQC 1453', 'Fence 1179', 'MiscFeature 1406']\n",
    "\n",
    "prior to data preprocessing. \n",
    "\n",
    "**If more than 30% of the data for that feature is missing, drop that column as imputation would most likely lead to inaccurate results (Fence, MiscFeature, PoolQC are dropped from training and test data sets).**"
   ]
  },
  {
   "cell_type": "code",
   "execution_count": 4,
   "metadata": {},
   "outputs": [],
   "source": [
    "from sklearn.model_selection import train_test_split\n",
    "\n",
    "# Split the data into training data and validation/test data\n",
    "X_train, X_valid, y_train, y_valid = train_test_split(X, y, train_size = .85, test_size = .15, random_state = 1)"
   ]
  },
  {
   "cell_type": "markdown",
   "metadata": {},
   "source": [
    "Use sklearn's Pipeline to make preprocess the data concisely."
   ]
  },
  {
   "cell_type": "code",
   "execution_count": 5,
   "metadata": {},
   "outputs": [],
   "source": [
    "from sklearn.compose import ColumnTransformer\n",
    "from sklearn.pipeline import Pipeline\n",
    "from sklearn.impute import SimpleImputer\n",
    "from sklearn.preprocessing import OneHotEncoder\n",
    "\n",
    "\n",
    "# Imputer for numerical data, imputes based on mean value of the non missing values in the column\n",
    "num_imputer = SimpleImputer (strategy = 'mean')\n",
    "# Imputer and label encoder Pipeline for categorical data, unknown values are ignored to avoid\n",
    "# unique categorical values, which cause the OneHotEncoder to throw exceptions\n",
    "cat_impute = Pipeline (steps=[\n",
    "    ('impute', SimpleImputer (strategy = 'most_frequent')),\n",
    "    ('encode', OneHotEncoder(handle_unknown = 'ignore'))\n",
    "])\n",
    "preprocess = ColumnTransformer (transformers = [('numeric', num_imputer, numerical), \n",
    "                                                ('categorical', cat_impute, categorical)])"
   ]
  },
  {
   "cell_type": "code",
   "execution_count": 6,
   "metadata": {},
   "outputs": [],
   "source": [
    "from sklearn.ensemble import RandomForestRegressor\n",
    "\n",
    "# Sets up the model as a RandomForestRegressor with 100 DecisionTrees in the forest \n",
    "model = RandomForestRegressor(n_estimators = 80, random_state = 1)"
   ]
  },
  {
   "cell_type": "code",
   "execution_count": 7,
   "metadata": {},
   "outputs": [
    {
     "name": "stdout",
     "output_type": "stream",
     "text": [
      "Model's mean absolute error: 15494.560273972604\n"
     ]
    }
   ],
   "source": [
    "from sklearn.metrics import mean_absolute_error\n",
    "\n",
    "# Finalizes the pipeline to clean the code before feeding it into the model\n",
    "final_model = Pipeline (steps = [\n",
    "    ('preprocessor', preprocess),\n",
    "    ('model', model)\n",
    "])\n",
    "\n",
    "final_model.fit(X_train, y_train.values.ravel())\n",
    "predictions = final_model.predict(X_valid)\n",
    "mae = mean_absolute_error(predictions, y_valid)\n",
    "print (\"Model's mean absolute error:\", mae)"
   ]
  },
  {
   "cell_type": "code",
   "execution_count": 8,
   "metadata": {},
   "outputs": [],
   "source": [
    "# # Submission to Kaggle Competition https://www.kaggle.com/c/home-data-for-ml-course/overview\n",
    "# preds_test = final_model.predict(X_test)\n",
    "\n",
    "# output = pd.DataFrame({'Id': X_test.Id,\n",
    "#                        'SalePrice': preds_test})\n",
    "# output.to_csv('submission.csv', index = False)"
   ]
  },
  {
   "cell_type": "code",
   "execution_count": null,
   "metadata": {},
   "outputs": [],
   "source": []
  }
 ],
 "metadata": {
  "kernelspec": {
   "display_name": "Python 3",
   "language": "python",
   "name": "python3"
  },
  "language_info": {
   "codemirror_mode": {
    "name": "ipython",
    "version": 3
   },
   "file_extension": ".py",
   "mimetype": "text/x-python",
   "name": "python",
   "nbconvert_exporter": "python",
   "pygments_lexer": "ipython3",
   "version": "3.8.5"
  }
 },
 "nbformat": 4,
 "nbformat_minor": 4
}
