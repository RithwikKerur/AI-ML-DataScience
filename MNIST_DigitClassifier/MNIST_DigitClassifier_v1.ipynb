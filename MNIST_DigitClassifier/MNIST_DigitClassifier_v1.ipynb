{
 "cells": [
  {
   "cell_type": "code",
   "execution_count": 13,
   "metadata": {},
   "outputs": [],
   "source": [
    "import pandas as pd\n",
    "import sklearn\n",
    "import joblib\n",
    "\n",
    "# Show all columns when displaying .head() or .describe()\n",
    "pd.set_option('max_columns', None)"
   ]
  },
  {
   "cell_type": "code",
   "execution_count": 2,
   "metadata": {},
   "outputs": [],
   "source": [
    "# Read in the data. Label is the numeric label (0-9). Other columns in X data represent the pixel intensity (0-255) of the image\n",
    "# at the designated pixel. The MNIST data is already quite clean and well pre-processed, so we can skip that step (for now).\n",
    "\n",
    "X_train = pd.read_csv(\"mnist_train.csv\")\n",
    "y_train = X_train.label\n",
    "X_train.drop('label', axis = 1, inplace = True)\n",
    "\n",
    "X_test = pd.read_csv(\"mnist_test.csv\")\n",
    "y_test = pd.DataFrame(X_test.label)\n",
    "X_test.drop('label', axis = 1, inplace = True)"
   ]
  },
  {
   "cell_type": "code",
   "execution_count": 4,
   "metadata": {
    "scrolled": false
   },
   "outputs": [
    {
     "data": {
      "text/plain": [
       "KNeighborsClassifier(weights='distance')"
      ]
     },
     "execution_count": 4,
     "metadata": {},
     "output_type": "execute_result"
    }
   ],
   "source": [
    "from sklearn.neighbors import KNeighborsClassifier\n",
    "\n",
    "image_clf = KNeighborsClassifier(n_neighbors = 5, weights = 'distance')\n",
    "image_clf.fit(X_train, y_train)"
   ]
  },
  {
   "cell_type": "code",
   "execution_count": 5,
   "metadata": {},
   "outputs": [],
   "source": [
    "from sklearn.model_selection import cross_val_predict\n",
    "\n",
    "y_train_pred = cross_val_predict(image_clf, X_train, y_train, cv = 3)\n"
   ]
  },
  {
   "cell_type": "code",
   "execution_count": 9,
   "metadata": {},
   "outputs": [
    {
     "data": {
      "text/plain": [
       "array([[5881,    3,    5,    0,    1,    5,   20,    1,    3,    4],\n",
       "       [   2, 6701,   11,    3,    3,    1,    3,   11,    2,    5],\n",
       "       [  46,   54, 5691,   20,    9,    4,   11,   92,   21,   10],\n",
       "       [   7,   11,   33, 5899,    1,   65,    6,   43,   39,   27],\n",
       "       [   3,   51,    0,    1, 5622,    0,   14,   13,    2,  136],\n",
       "       [  13,   10,    4,   60,    6, 5217,   61,    7,   16,   27],\n",
       "       [  20,   13,    1,    0,    5,   25, 5851,    0,    3,    0],\n",
       "       [   3,   65,   12,    3,   13,    2,    0, 6093,    4,   70],\n",
       "       [  18,   82,   10,   73,   29,   87,   27,   16, 5431,   78],\n",
       "       [  15,   10,    5,   39,   44,   11,    5,   77,   13, 5730]],\n",
       "      dtype=int64)"
      ]
     },
     "execution_count": 9,
     "metadata": {},
     "output_type": "execute_result"
    }
   ],
   "source": [
    "from sklearn.metrics import confusion_matrix\n",
    "\n",
    "conf_matrix = confusion_matrix(y_train, y_train_pred)\n",
    "conf_matrix"
   ]
  },
  {
   "cell_type": "code",
   "execution_count": 15,
   "metadata": {},
   "outputs": [
    {
     "name": "stdout",
     "output_type": "stream",
     "text": [
      "[0.9688  0.96795 0.96905]\n"
     ]
    }
   ],
   "source": [
    "from sklearn.model_selection import cross_val_score\n",
    "\n",
    "cv_scores = cross_val_score(image_clf, X_train, y_train, cv = 3)\n",
    "print (cv_scores)"
   ]
  },
  {
   "cell_type": "markdown",
   "metadata": {},
   "source": [
    "## K Nearest Neighbors Classifier Model Evaluation:\n",
    "\n",
    "Model has approximatley a 97% cross validation accuracy on the training set, which is an excellent accuracy score. Seems to perform the worst on 9's, which makes sense since the digit 9 has a lot of similarities between 3's and 8's.\n",
    "\n",
    "Using 5 neighbors and distance weighting in the model, a cross validation accuracy score of [0.9688  0.96795 0.96905] is achieved.\n",
    "\n",
    "The Confusion Matrix for this data set (columns from 0-9, representing the classified digit):\n",
    "\n",
    "\n",
    "    [[5881,    3,    5,    0,    1,    5,   20,    1,    3,    4]\n",
    "    [   2, 6701,   11,    3,    3,    1,    3,   11,    2,    5]\n",
    "    [  46,   54, 5691,   20,    9,    4,   11,   92,   21,   10]\n",
    "    [   7,   11,   33, 5899,    1,   65,    6,   43,   39,   27]\n",
    "    [   3,   51,    0,    1, 5622,    0,   14,   13,    2,  136]\n",
    "    [  13,   10,    4,   60,    6, 5217,   61,    7,   16,   27]\n",
    "    [  20,   13,    1,    0,    5,   25, 5851,    0,    3,    0]\n",
    "    [   3,   65,   12,    3,   13,    2,    0, 6093,    4,   70]\n",
    "    [  18,   82,   10,   73,   29,   87,   27,   16, 5431,   78]\n",
    "    [  15,   10,    5,   39,   44,   11,    5,   77,   13, 5730]]\n",
    "\n",
    "\n",
    "Potential future improvements include image pre-processing to center images to get a more accurate representation of an image, once this image is fed into the model, it will more likely produce an accurate and more consistently precise result."
   ]
  },
  {
   "cell_type": "code",
   "execution_count": 34,
   "metadata": {},
   "outputs": [
    {
     "data": {
      "text/plain": [
       "['KNN_MNIST_ImageClassifier_v1']"
      ]
     },
     "execution_count": 34,
     "metadata": {},
     "output_type": "execute_result"
    }
   ],
   "source": [
    "# Save model to file called \"KNN_MNIST_ImageClassifier_v1\"\n",
    "joblib.dump(image_clf, \"KNN_MNIST_ImageClassifier_v1\")"
   ]
  }
 ],
 "metadata": {
  "kernelspec": {
   "display_name": "Python 3",
   "language": "python",
   "name": "python3"
  },
  "language_info": {
   "codemirror_mode": {
    "name": "ipython",
    "version": 3
   },
   "file_extension": ".py",
   "mimetype": "text/x-python",
   "name": "python",
   "nbconvert_exporter": "python",
   "pygments_lexer": "ipython3",
   "version": "3.8.5"
  }
 },
 "nbformat": 4,
 "nbformat_minor": 4
}
