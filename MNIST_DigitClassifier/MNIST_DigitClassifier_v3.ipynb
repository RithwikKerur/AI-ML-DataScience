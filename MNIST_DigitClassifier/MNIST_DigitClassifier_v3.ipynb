{
 "cells": [
  {
   "cell_type": "code",
   "execution_count": 1,
   "metadata": {},
   "outputs": [],
   "source": [
    "import pandas as pd\n",
    "import matplotlib.pyplot as plt\n",
    "import numpy as np\n",
    "import sklearn\n",
    "import joblib"
   ]
  },
  {
   "cell_type": "code",
   "execution_count": 2,
   "metadata": {},
   "outputs": [],
   "source": [
    "# Read in the data. Label is the numeric label (0-9). Other columns in X data represent the pixel intensity (0-255) of the image\n",
    "# at the designated pixel. The MNIST data is already quite clean and well pre-processed, so we can just feed the data into\n",
    "# our model.\n",
    "\n",
    "X_train = pd.read_csv(\"mnist_train.csv\")\n",
    "y_train = X_train.label\n",
    "X_train.drop('label', axis = 1, inplace = True)\n",
    "\n",
    "X_test = pd.read_csv(\"mnist_test.csv\")\n",
    "y_test = pd.DataFrame(X_test.label)\n",
    "X_test.drop('label', axis = 1, inplace = True)\n",
    "\n",
    "X_train = X_train.to_numpy()\n",
    "X_test = X_test.to_numpy()\n",
    "y_train = y_train.to_numpy()\n",
    "y_test = y_test.to_numpy()"
   ]
  },
  {
   "cell_type": "code",
   "execution_count": 3,
   "metadata": {},
   "outputs": [],
   "source": [
    "from scipy.ndimage.interpolation import shift\n",
    "\n",
    "# Function that shifts the original images by dy in the y direction and dx in the x direction (using image coordinates)\n",
    "# i.e. the origin is in the top left corner of the image.\n",
    "def shift_digit(image, dx, dy):\n",
    "    image = image.reshape(28,28)\n",
    "    shift_image = np.array(shift(image, [dy, dx], cval = 0, mode = \"constant\"))\n",
    "    return shift_image.reshape([-1])\n",
    "\n",
    "\n",
    "# Convert to a list, to make it less of a hassle to append to the data set\n",
    "X_train_expanded = X_train.tolist()\n",
    "y_train_expanded = y_train.tolist()\n",
    "\n",
    "# Augment the data, by shifting each image four pixels to the right, four pixels to the left, four pixels down,\n",
    "# then four pixels up. This will lead to better generalization and accuracy.\n",
    "for dx, dy in ((4,0), (-4, 0), (0, 4), (0, -4)):\n",
    "    for ix in range (0, len(X_train)):\n",
    "        shifted_image = shift_digit(X_train[ix], dx, dy)\n",
    "        X_train_expanded.append(shifted_image.tolist())\n",
    "        y_train_expanded.append(y_train[ix])"
   ]
  },
  {
   "cell_type": "code",
   "execution_count": 4,
   "metadata": {},
   "outputs": [],
   "source": [
    "# # Testing shift_digit function\n",
    "# original = X_train_expanded[1]\n",
    "# shifted = X_train_expanded[60001]\n",
    "\n",
    "# plt.imshow(original.reshape(28,28), cmap = \"Greys\")\n",
    "# plt.show()\n",
    "# plt.imshow(shifted.reshape(28,28), cmap = \"Greys\")\n",
    "# plt.show()"
   ]
  },
  {
   "cell_type": "code",
   "execution_count": 11,
   "metadata": {
    "scrolled": false
   },
   "outputs": [
    {
     "data": {
      "text/plain": [
       "RandomForestClassifier(n_estimators=250, n_jobs=12)"
      ]
     },
     "execution_count": 11,
     "metadata": {},
     "output_type": "execute_result"
    }
   ],
   "source": [
    "from sklearn.ensemble import RandomForestClassifier\n",
    "\n",
    "image_clf = RandomForestClassifier(n_estimators = 250, n_jobs = 12)\n",
    "image_clf.fit(X_train_expanded, y_train_expanded)"
   ]
  },
  {
   "cell_type": "code",
   "execution_count": 12,
   "metadata": {},
   "outputs": [
    {
     "name": "stdout",
     "output_type": "stream",
     "text": [
      "0.9701\n"
     ]
    }
   ],
   "source": [
    "y_test_pred = image_clf.predict(X_test)\n",
    "accuracy = image_clf.score(X_test, y_test)\n",
    "print (accuracy)"
   ]
  },
  {
   "cell_type": "code",
   "execution_count": 14,
   "metadata": {},
   "outputs": [
    {
     "name": "stdout",
     "output_type": "stream",
     "text": [
      "[[5842    1    8    0    4    6   19    1   38    4]\n",
      " [   1 6636   40   11   11    3    7   11   14    8]\n",
      " [  32   10 5751   31   32    3   18   37   36    8]\n",
      " [   9    5   81 5814    4   66    9   50   65   28]\n",
      " [  10   11   10    1 5660    0   29   12   17   92]\n",
      " [  22    7   10   60    8 5205   45    5   31   28]\n",
      " [  25   12    3    0    8   37 5815    0   18    0]\n",
      " [   7   24   55    9   33    1    0 6046   14   76]\n",
      " [  10   31   33   45   26   38   26    5 5573   64]\n",
      " [  22    9   11   73   63   19    4   49   45 5654]]\n"
     ]
    }
   ],
   "source": [
    "from sklearn.model_selection import cross_val_predict\n",
    "from sklearn.metrics import confusion_matrix\n",
    "\n",
    "y_train_pred = cross_val_predict(image_clf, X_train, y_train, cv = 3, n_jobs = 12)\n",
    "conf_matrix = confusion_matrix(y_train, y_train_pred)\n",
    "print (conf_matrix)"
   ]
  },
  {
   "cell_type": "markdown",
   "metadata": {},
   "source": [
    "## Random Forest Classifier Model Evaluation:\n",
    "\n",
    "Model_v3 utilizes a RandomForestClassifier with 250 decision trees. It yields a marginally better accuracy score on the test data (97% as opposed to model_v2's 96.72%). However, it is MUCH faster since it utilizes Decision trees instead of the Nearest Neighbors algorithm. \n",
    "\n",
    "The Confusion Matrix for this data set (columns from 0-9, representing the classified digit):\n",
    "\n",
    "\n",
    "    [[5842    1    8    0    4    6   19    1   38    4]\n",
    "     [   1 6636   40   11   11    3    7   11   14    8]\n",
    "     [  32   10 5751   31   32    3   18   37   36    8]\n",
    "     [   9    5   81 5814    4   66    9   50   65   28]\n",
    "     [  10   11   10    1 5660    0   29   12   17   92]\n",
    "     [  22    7   10   60    8 5205   45    5   31   28]\n",
    "     [  25   12    3    0    8   37 5815    0   18    0]\n",
    "     [   7   24   55    9   33    1    0 6046   14   76]\n",
    "     [  10   31   33   45   26   38   26    5 5573   64]\n",
    "     [  22    9   11   73   63   19    4   49   45 5654]]\n",
    "\n",
    "As evidenced by the confusion matrix, model performance on 8's, 6's, and 9's are the worst. 6's often get classified as 5's, 8's often get classified as 3's, and 9's often get classified as 4's. These all make sense since these numbers are very structurally similar, so this type of error will always exist to some degree (and sometimes even humans can't tell the difference)."
   ]
  },
  {
   "cell_type": "code",
   "execution_count": 15,
   "metadata": {},
   "outputs": [
    {
     "data": {
      "text/plain": [
       "['KNN_MNIST_ImageClassifier_v3']"
      ]
     },
     "execution_count": 15,
     "metadata": {},
     "output_type": "execute_result"
    }
   ],
   "source": [
    "# Save model to file called \"KNN_MNIST_ImageClassifier_v3\"\n",
    "joblib.dump(image_clf, \"KNN_MNIST_ImageClassifier_v3\")\n"
   ]
  },
  {
   "cell_type": "code",
   "execution_count": null,
   "metadata": {},
   "outputs": [],
   "source": []
  }
 ],
 "metadata": {
  "kernelspec": {
   "display_name": "Python 3",
   "language": "python",
   "name": "python3"
  },
  "language_info": {
   "codemirror_mode": {
    "name": "ipython",
    "version": 3
   },
   "file_extension": ".py",
   "mimetype": "text/x-python",
   "name": "python",
   "nbconvert_exporter": "python",
   "pygments_lexer": "ipython3",
   "version": "3.8.5"
  }
 },
 "nbformat": 4,
 "nbformat_minor": 4
}
